{
  "cells": [
    {
      "cell_type": "markdown",
      "metadata": {
        "id": "view-in-github",
        "colab_type": "text"
      },
      "source": [
        "<a href=\"https://colab.research.google.com/github/ChilakalaNagReddy/Fundamentals-Of-Data-Science/blob/main/FODS_py.ipynb\" target=\"_parent\"><img src=\"https://colab.research.google.com/assets/colab-badge.svg\" alt=\"Open In Colab\"/></a>"
      ]
    },
    {
      "cell_type": "markdown",
      "source": [
        "Experiment-01"
      ],
      "metadata": {
        "id": "AlqYfOwLUQFc"
      }
    },
    {
      "cell_type": "code",
      "source": [
        "import numpy as np\n",
        "student_scores = np.array([\n",
        "    [85, 78, 92, 74],\n",
        "    [88, 90, 80, 85],\n",
        "    [90, 85, 88, 82],\n",
        "    [75, 80, 85, 90]\n",
        "])\n",
        "average_scores = np.mean(student_scores, axis=0)\n",
        "subjects = ['Math', 'Science', 'English', 'History']\n",
        "highest_avg_index = np.argmax(average_scores)\n",
        "highest_avg_subject = subjects[highest_avg_index]\n",
        "for subject, avg in zip(subjects, average_scores):\n",
        "    print(f\"Average score in {subject}: {avg:.2f}\")\n",
        "print(f\"\\nSubject with the highest average score: {highest_avg_subject} ({average_scores[highest_avg_index]:.2f})\")"
      ],
      "metadata": {
        "id": "YCL2zlz8USsX",
        "outputId": "3a2a2ba0-9cdf-4322-a5d3-1a412c1799b5",
        "colab": {
          "base_uri": "https://localhost:8080/"
        }
      },
      "execution_count": null,
      "outputs": [
        {
          "output_type": "stream",
          "name": "stdout",
          "text": [
            "Average score in Math: 84.50\n",
            "Average score in Science: 83.25\n",
            "Average score in English: 86.25\n",
            "Average score in History: 82.75\n",
            "\n",
            "Subject with the highest average score: English (86.25)\n"
          ]
        }
      ]
    },
    {
      "cell_type": "markdown",
      "source": [
        "Experiment-02"
      ],
      "metadata": {
        "id": "0qXIRBlDUlzx"
      }
    },
    {
      "cell_type": "code",
      "source": [
        "import numpy as np\n",
        "sales_data = np.array([\n",
        "    [100, 150, 200],\n",
        "    [80, 120, 160],\n",
        "    [90, 110, 130]\n",
        "])\n",
        "average_price = np.mean(sales_data)\n",
        "print(f\"Average price of all products sold: ₹{average_price:.2f}\")\n"
      ],
      "metadata": {
        "id": "G9NvYBclUofS",
        "outputId": "5ea6e2f6-11a1-40ec-c5f9-dd4b992a2b03",
        "colab": {
          "base_uri": "https://localhost:8080/"
        }
      },
      "execution_count": null,
      "outputs": [
        {
          "output_type": "stream",
          "name": "stdout",
          "text": [
            "Average price of all products sold: ₹126.67\n"
          ]
        }
      ]
    },
    {
      "cell_type": "markdown",
      "source": [
        "Experiment-03"
      ],
      "metadata": {
        "id": "ztw7GINPU80z"
      }
    },
    {
      "cell_type": "code",
      "source": [
        "import numpy as np\n",
        "house_data = np.array([\n",
        "    [3, 1500, 250000],\n",
        "    [5, 2800, 450000],\n",
        "    [4, 2000, 350000],\n",
        "    [6, 3200, 600000],\n",
        "    [2, 1200, 200000],\n",
        "    [5, 2700, 480000]\n",
        "])\n",
        "filtered_data = house_data[house_data[:, 0] > 4]\n",
        "sale_prices = filtered_data[:, 2]\n",
        "average_sale_price = np.mean(sale_prices)\n",
        "print(f\"Average sale price of houses with more than 4 bedrooms: ₹{average_sale_price:.2f}\")"
      ],
      "metadata": {
        "id": "5pfo515BU_0S",
        "outputId": "b4452c1b-db92-4078-a249-fbe1498e1e15",
        "colab": {
          "base_uri": "https://localhost:8080/"
        }
      },
      "execution_count": null,
      "outputs": [
        {
          "output_type": "stream",
          "name": "stdout",
          "text": [
            "Average sale price of houses with more than 4 bedrooms: ₹510000.00\n"
          ]
        }
      ]
    },
    {
      "cell_type": "markdown",
      "source": [
        "Experiment-04"
      ],
      "metadata": {
        "id": "e2vVYRtDVQ8r"
      }
    },
    {
      "cell_type": "code",
      "source": [
        "import numpy as np\n",
        "sales_data = np.array([200000, 250000, 300000, 400000])\n",
        "total_sales = np.sum(sales_data)\n",
        "percentage_increase = ((sales_data[3] - sales_data[0]) / sales_data[0]) * 100\n",
        "\n",
        "# Display results\n",
        "print(f\"Total sales for the year: ₹{total_sales:.2f}\")\n",
        "print(f\"Percentage increase from Q1 to Q4: {percentage_increase:.2f}%\")\n"
      ],
      "metadata": {
        "id": "0vlAR_YIVUcr",
        "outputId": "8662e273-757a-4db9-e9d2-0b6aa5643c54",
        "colab": {
          "base_uri": "https://localhost:8080/"
        }
      },
      "execution_count": null,
      "outputs": [
        {
          "output_type": "stream",
          "name": "stdout",
          "text": [
            "Total sales for the year: ₹1150000.00\n",
            "Percentage increase from Q1 to Q4: 100.00%\n"
          ]
        }
      ]
    },
    {
      "cell_type": "markdown",
      "source": [
        "Experiment-05"
      ],
      "metadata": {
        "id": "EZhqXid0Vkte"
      }
    },
    {
      "cell_type": "code",
      "source": [
        "import numpy as np\n",
        "fuel_efficiency = np.array([22, 28, 30, 25, 35, 40])\n",
        "average_efficiency = np.mean(fuel_efficiency)\n",
        "\n",
        "model_A_efficiency = fuel_efficiency[1]\n",
        "model_B_efficiency = fuel_efficiency[5]\n",
        "percentage_improvement = ((model_B_efficiency - model_A_efficiency) / model_A_efficiency) * 100\n",
        "\n",
        "# Display results\n",
        "print(f\"Average fuel efficiency: {average_efficiency:.2f} mpg\")\n",
        "print(f\"Percentage improvement from model A to model B: {percentage_improvement:.2f}%\")\n"
      ],
      "metadata": {
        "id": "Lg4L7e3tVnYG",
        "outputId": "3e29b60f-cc90-4711-da43-5e70357a9fdb",
        "colab": {
          "base_uri": "https://localhost:8080/"
        }
      },
      "execution_count": null,
      "outputs": [
        {
          "output_type": "stream",
          "name": "stdout",
          "text": [
            "Average fuel efficiency: 30.00 mpg\n",
            "Percentage improvement from model A to model B: 42.86%\n"
          ]
        }
      ]
    },
    {
      "cell_type": "markdown",
      "source": [
        "Experiment-06"
      ],
      "metadata": {
        "id": "bpM6lNlnWQnq"
      }
    },
    {
      "cell_type": "code",
      "source": [
        "item_prices = [50, 30, 20]\n",
        "item_quantities = [2, 3, 1]\n",
        "discount_rate = 10\n",
        "tax_rate = 5\n",
        "\n",
        "subtotal = sum([price * qty for price, qty in zip(item_prices, item_quantities)])\n",
        "\n",
        "discount_amount = (discount_rate / 100) * subtotal\n",
        "subtotal_after_discount = subtotal - discount_amount\n",
        "\n",
        "tax_amount = (tax_rate / 100) * subtotal_after_discount\n",
        "total_cost = subtotal_after_discount + tax_amount\n",
        "\n",
        "print(f\"Subtotal: ₹{subtotal:.2f}\")\n",
        "print(f\"Discount: ₹{discount_amount:.2f}\")\n",
        "print(f\"Subtotal after discount: ₹{subtotal_after_discount:.2f}\")\n",
        "print(f\"Tax: ₹{tax_amount:.2f}\")\n",
        "print(f\"Total cost to customer: ₹{total_cost:.2f}\")\n"
      ],
      "metadata": {
        "id": "ejbN57WHWTa2",
        "outputId": "0dd096e5-3435-442c-94c7-3d5131f56151",
        "colab": {
          "base_uri": "https://localhost:8080/"
        }
      },
      "execution_count": null,
      "outputs": [
        {
          "output_type": "stream",
          "name": "stdout",
          "text": [
            "Subtotal: ₹210.00\n",
            "Discount: ₹21.00\n",
            "Subtotal after discount: ₹189.00\n",
            "Tax: ₹9.45\n",
            "Total cost to customer: ₹198.45\n"
          ]
        }
      ]
    },
    {
      "cell_type": "markdown",
      "source": [
        "Experriment-07"
      ],
      "metadata": {
        "id": "JXB2OwoYW2rw"
      }
    },
    {
      "cell_type": "code",
      "source": [
        "import pandas as pd\n",
        "\n",
        "data = {\n",
        "    'customer_id': [101, 102, 101, 103, 102, 101],\n",
        "    'order_date': ['2023-01-10', '2023-01-12', '2023-02-15', '2023-01-18', '2023-03-01', '2023-03-05'],\n",
        "    'product_name': ['Laptop', 'Mouse', 'Laptop', 'Keyboard', 'Mouse', 'Keyboard'],\n",
        "    'order_quantity': [1, 2, 1, 1, 3, 2]\n",
        "}\n",
        "\n",
        "order_data = pd.DataFrame(data)\n",
        "\n",
        "order_data['order_date'] = pd.to_datetime(order_data['order_date'])\n",
        "\n",
        "orders_per_customer = order_data.groupby('customer_id').size()\n",
        "\n",
        "average_quantity_per_product = order_data.groupby('product_name')['order_quantity'].mean()\n",
        "\n",
        "earliest_order = order_data['order_date'].min()\n",
        "latest_order = order_data['order_date'].max()\n",
        "\n",
        "print(\"1. Total number of orders per customer:\")\n",
        "print(orders_per_customer)\n",
        "\n",
        "print(\"\\n2. Average order quantity per product:\")\n",
        "print(average_quantity_per_product)\n",
        "\n",
        "print(f\"\\n3. Earliest order date: {earliest_order.date()}\")\n",
        "print(f\"   Latest order date: {latest_order.date()}\")\n"
      ],
      "metadata": {
        "id": "y6JqHOG8W5Hu",
        "outputId": "18d1beb1-de95-4461-e731-a8e67266ce6f",
        "colab": {
          "base_uri": "https://localhost:8080/"
        }
      },
      "execution_count": null,
      "outputs": [
        {
          "output_type": "stream",
          "name": "stdout",
          "text": [
            "1. Total number of orders per customer:\n",
            "customer_id\n",
            "101    3\n",
            "102    2\n",
            "103    1\n",
            "dtype: int64\n",
            "\n",
            "2. Average order quantity per product:\n",
            "product_name\n",
            "Keyboard    1.5\n",
            "Laptop      1.0\n",
            "Mouse       2.5\n",
            "Name: order_quantity, dtype: float64\n",
            "\n",
            "3. Earliest order date: 2023-01-10\n",
            "   Latest order date: 2023-03-05\n"
          ]
        }
      ]
    },
    {
      "cell_type": "markdown",
      "source": [
        "Experiment-08"
      ],
      "metadata": {
        "id": "w0Y4XWW4XDuZ"
      }
    },
    {
      "cell_type": "code",
      "source": [
        "import pandas as pd\n",
        "\n",
        "data = {\n",
        "    'product_name': ['Laptop', 'Mouse', 'Keyboard', 'Mouse', 'Laptop', 'Monitor', 'Mouse', 'Keyboard', 'Monitor', 'Laptop'],\n",
        "    'quantity_sold': [2, 5, 3, 4, 1, 2, 3, 2, 4, 5]\n",
        "}\n",
        "\n",
        "sales_data = pd.DataFrame(data)\n",
        "\n",
        "product_sales = sales_data.groupby('product_name')['quantity_sold'].sum()\n",
        "\n",
        "top_5_products = product_sales.sort_values(ascending=False).head(5)\n",
        "\n",
        "print(\"Top 5 products sold the most:\")\n",
        "print(top_5_products)\n"
      ],
      "metadata": {
        "id": "DGQHmbvlXFv6",
        "outputId": "63152b53-377a-4207-a0dd-247216bbe478",
        "colab": {
          "base_uri": "https://localhost:8080/"
        }
      },
      "execution_count": null,
      "outputs": [
        {
          "output_type": "stream",
          "name": "stdout",
          "text": [
            "Top 5 products sold the most:\n",
            "product_name\n",
            "Mouse       12\n",
            "Laptop       8\n",
            "Monitor      6\n",
            "Keyboard     5\n",
            "Name: quantity_sold, dtype: int64\n"
          ]
        }
      ]
    },
    {
      "cell_type": "markdown",
      "source": [
        "Experiment-09"
      ],
      "metadata": {
        "id": "3DsiEChBXViG"
      }
    },
    {
      "cell_type": "code",
      "source": [
        "import pandas as pd\n",
        "\n",
        "data = {\n",
        "    'property_id': [1, 2, 3, 4, 5, 6],\n",
        "    'location': ['City A', 'City B', 'City A', 'City C', 'City B', 'City C'],\n",
        "    'bedrooms': [3, 5, 4, 2, 6, 5],\n",
        "    'area_sqft': [1500, 2500, 1800, 1200, 3000, 2700],\n",
        "    'listing_price': [300000, 500000, 350000, 200000, 600000, 550000]\n",
        "}\n",
        "\n",
        "property_data = pd.DataFrame(data)\n",
        "\n",
        "avg_price_by_location = property_data.groupby('location')['listing_price'].mean()\n",
        "\n",
        "properties_above_4_bedrooms = property_data[property_data['bedrooms'] > 4].shape[0]\n",
        "\n",
        "largest_property = property_data.loc[property_data['area_sqft'].idxmax()]\n",
        "\n",
        "print(\"1. Average listing price by location:\")\n",
        "print(avg_price_by_location)\n",
        "\n",
        "print(f\"\\n2. Number of properties with more than 4 bedrooms: {properties_above_4_bedrooms}\")\n",
        "\n",
        "print(\"\\n3. Property with the largest area:\")\n",
        "print(largest_property)\n"
      ],
      "metadata": {
        "id": "53NEMAbpXXmW",
        "outputId": "ac7ffeec-785f-4ec6-b7f1-4195f1b1b093",
        "colab": {
          "base_uri": "https://localhost:8080/"
        }
      },
      "execution_count": null,
      "outputs": [
        {
          "output_type": "stream",
          "name": "stdout",
          "text": [
            "1. Average listing price by location:\n",
            "location\n",
            "City A    325000.0\n",
            "City B    550000.0\n",
            "City C    375000.0\n",
            "Name: listing_price, dtype: float64\n",
            "\n",
            "2. Number of properties with more than 4 bedrooms: 3\n",
            "\n",
            "3. Property with the largest area:\n",
            "property_id           5\n",
            "location         City B\n",
            "bedrooms              6\n",
            "area_sqft          3000\n",
            "listing_price    600000\n",
            "Name: 4, dtype: object\n"
          ]
        }
      ]
    },
    {
      "cell_type": "markdown",
      "source": [
        "Experriment-10"
      ],
      "metadata": {
        "id": "fTpYOL3cXtN0"
      }
    },
    {
      "cell_type": "code",
      "source": [
        "import matplotlib.pyplot as plt\n",
        "\n",
        "months = ['Jan', 'Feb', 'Mar', 'Apr', 'May', 'Jun', 'Jul', 'Aug']\n",
        "sales = [15000, 18000, 12000, 22000, 21000, 19000, 25000, 23000]\n",
        "\n",
        "plt.figure(figsize=(10, 5))\n",
        "plt.plot(months, sales, marker='o', color='blue', linestyle='-', linewidth=2)\n",
        "plt.title('Monthly Sales (Line Plot)')\n",
        "plt.xlabel('Month')\n",
        "plt.ylabel('Sales (₹)')\n",
        "plt.grid(True)\n",
        "plt.tight_layout()\n",
        "plt.show()\n",
        "\n",
        "plt.figure(figsize=(10, 5))\n",
        "plt.bar(months, sales, color='green')\n",
        "plt.title('Monthly Sales (Bar Plot)')\n",
        "plt.xlabel('Month')\n",
        "plt.ylabel('Sales (₹)')\n",
        "plt.tight_layout()\n",
        "plt.show()\n"
      ],
      "metadata": {
        "id": "W537RpSqXvuj",
        "outputId": "ab6fc0f4-2a20-41fc-c676-d50931adb009",
        "colab": {
          "base_uri": "https://localhost:8080/",
          "height": 997
        }
      },
      "execution_count": null,
      "outputs": [
        {
          "output_type": "display_data",
          "data": {
            "text/plain": [
              "<Figure size 1000x500 with 1 Axes>"
            ],
            "image/png": "[encoded data removed]"
          },
          "metadata": {}
        },
        {
          "output_type": "display_data",
          "data": {
            "text/plain": [
              "<Figure size 1000x500 with 1 Axes>"
            ],
            "image/png": "[encoded data removed]"
          },
          "metadata": {}
        }
      ]
    }
  ],
  "metadata": {
    "colab": {
      "provenance": [],
      "include_colab_link": true
    },
    "kernelspec": {
      "display_name": "Python 3",
      "name": "python3"
    }
  },
  "nbformat": 4,
  "nbformat_minor": 0
}